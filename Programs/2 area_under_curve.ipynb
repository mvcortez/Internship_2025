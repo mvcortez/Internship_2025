{
 "cells": [
  {
   "cell_type": "code",
   "execution_count": 19,
   "id": "a5f64a7a",
   "metadata": {},
   "outputs": [],
   "source": [
    "import numpy as np"
   ]
  },
  {
   "cell_type": "code",
   "execution_count": 56,
   "id": "8f3865d5",
   "metadata": {},
   "outputs": [],
   "source": [
    "N=10000\n",
    "X = np.random.uniform(-np.pi/2,np.pi/2,N)\n",
    "Y = np.random.uniform(0,1,N)\n",
    "f_x = np.cos(X)\n",
    "idx = np.where(Y<f_x)\n",
    "L=len(idx[0])\n",
    "A = np.pi*L/N"
   ]
  }
 ],
 "metadata": {
  "kernelspec": {
   "display_name": "Python 3 (ipykernel)",
   "language": "python",
   "name": "python3"
  },
  "language_info": {
   "codemirror_mode": {
    "name": "ipython",
    "version": 3
   },
   "file_extension": ".py",
   "mimetype": "text/x-python",
   "name": "python",
   "nbconvert_exporter": "python",
   "pygments_lexer": "ipython3",
   "version": "3.11.5"
  }
 },
 "nbformat": 4,
 "nbformat_minor": 5
}
