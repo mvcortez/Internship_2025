{
 "cells": [
  {
   "cell_type": "code",
   "execution_count": null,
   "id": "40fd3d4c",
   "metadata": {},
   "outputs": [],
   "source": [
    "from sklearn.cluster import KMeans\n",
    "import numpy as np\n",
    "import matplotlib.pyplot as plt\n",
    "import seaborn as sns"
   ]
  },
  {
   "cell_type": "code",
   "execution_count": null,
   "id": "6b1cef92",
   "metadata": {},
   "outputs": [],
   "source": [
    "N =100\n",
    "np.random.seed(2)\n",
    "X1 = np.random.multivariate_normal([10, 5], [[1, 0],[0, 1]], 100)\n",
    "X2 = np.random.multivariate_normal([12, 10], [[2, 0],[0, 2]], 100)\n",
    "plt.scatter(X1[:,0],X1[:,1],c='b')\n",
    "plt.scatter(X2[:,0],X2[:,1],c='r')\n",
    "sns.despine()"
   ]
  },
  {
   "cell_type": "code",
   "execution_count": null,
   "id": "0b8aabe4",
   "metadata": {},
   "outputs": [],
   "source": [
    "X = np.append(X1,X2,axis=0)\n",
    "\n",
    "from sklearn.cluster import KMeans\n",
    "kmeans = KMeans(n_clusters=2, init='k-means++')\n",
    "kmeans.fit(X)"
   ]
  },
  {
   "cell_type": "code",
   "execution_count": null,
   "id": "234c04a5",
   "metadata": {},
   "outputs": [],
   "source": [
    "x_min, x_max = X[:, 0].min() - 0.5, X[:, 0].max() + 0.5\n",
    "y_min, y_max = X[:, 1].min() - 0.5, X[:, 1].max() + 0.5\n",
    "xx, yy = np.meshgrid(np.linspace(x_min, x_max, 100), np.linspace(y_min, y_max, 100))\n",
    "Z = kmeans.predict(np.c_[xx.ravel(), yy.ravel()])\n",
    "Z = Z.reshape(xx.shape)\n",
    "f = plt.figure()\n",
    "plt.contourf(xx, yy, Z, cmap=plt.cm.Pastel1)\n",
    "plt.scatter(X1[:,0],X1[:,1])\n",
    "plt.scatter(X2[:,0],X2[:,1])\n",
    "sns.despine()"
   ]
  },
  {
   "cell_type": "code",
   "execution_count": null,
   "id": "99169d75",
   "metadata": {},
   "outputs": [],
   "source": [
    "X3 = np.random.multivariate_normal([10, 10], [[2, 0],[0, 2]], 100)\n",
    "plt.scatter(X1[:,0],X1[:,1],c='b')\n",
    "plt.scatter(X2[:,0],X2[:,1],c='r')\n",
    "plt.scatter(X3[:,0],X3[:,1],c='g')\n",
    "\n"
   ]
  },
  {
   "cell_type": "code",
   "execution_count": null,
   "id": "1304ee92",
   "metadata": {},
   "outputs": [],
   "source": [
    "args = (X1, X2, X3)\n",
    "X = np.concatenate(args,axis=0)\n",
    "kmeans = KMeans(n_clusters=3, init='k-means++')\n",
    "kmeans.fit(X)\n",
    "\n",
    "x_min, x_max = X[:, 0].min() - 0.5, X[:, 0].max() + 0.5\n",
    "y_min, y_max = X[:, 1].min() - 0.5, X[:, 1].max() + 0.5\n",
    "xx, yy = np.meshgrid(np.linspace(x_min, x_max, 100), np.linspace(y_min, y_max, 100))\n",
    "Z = kmeans.predict(np.c_[xx.ravel(), yy.ravel()])\n",
    "Z = Z.reshape(xx.shape)\n",
    "f = plt.figure()\n",
    "plt.contourf(xx, yy, Z, cmap=plt.cm.Pastel1)\n",
    "plt.scatter(X1[:,0],X1[:,1])\n",
    "plt.scatter(X2[:,0],X2[:,1])\n",
    "plt.scatter(X3[:,0],X3[:,1])\n",
    "\n",
    "sns.despine()"
   ]
  },
  {
   "cell_type": "code",
   "execution_count": null,
   "id": "34b64f78",
   "metadata": {},
   "outputs": [],
   "source": [
    "from matplotlib.image import imread\n",
    "import matplotlib.pyplot as plt\n",
    "import numpy as np\n",
    "A=imread(\"jolibee_head.jpg\");\n",
    "img = plt.imshow(A)\n",
    "plt.axis('off')\n",
    "plt.show()"
   ]
  },
  {
   "cell_type": "code",
   "execution_count": null,
   "id": "82fdd5e4",
   "metadata": {},
   "outputs": [],
   "source": [
    "s = np.shape(A)\n",
    "k=10\n",
    "length = s[0]*s[1]\n",
    "X = np.zeros([length,3])\n",
    "\n",
    "count=0\n",
    "for i in range(s[0]):\n",
    "    for j in range(s[1]):\n",
    "        X[count,:] = A[i,j,:]\n",
    "        count+=1\n",
    "\n",
    "from sklearn.cluster import KMeans\n",
    "kmeans = KMeans(n_clusters=k, init='k-means++')\n",
    "kmeans.fit(X)"
   ]
  },
  {
   "cell_type": "code",
   "execution_count": null,
   "id": "f67f8f59",
   "metadata": {},
   "outputs": [],
   "source": [
    "Z=kmeans.predict(X)"
   ]
  },
  {
   "cell_type": "code",
   "execution_count": null,
   "id": "bee948e3",
   "metadata": {},
   "outputs": [],
   "source": [
    "c = np.zeros([k,3])\n",
    "for i in range(k):\n",
    "    c[i,:] = np.mean(X[np.where(Z==i)],axis=0)\n"
   ]
  },
  {
   "cell_type": "code",
   "execution_count": null,
   "id": "0ffbfc10",
   "metadata": {},
   "outputs": [],
   "source": [
    "A_new = np.zeros_like(A)\n",
    "count = 0\n",
    "for i in range(s[0]):\n",
    "    for j in range(s[1]):\n",
    "        A_new[i,j,:] = c[Z[count]]\n",
    "        count+=1"
   ]
  },
  {
   "cell_type": "code",
   "execution_count": null,
   "id": "7b34a55f",
   "metadata": {},
   "outputs": [],
   "source": [
    "img = plt.imshow(A_new)\n",
    "plt.axis('off')\n",
    "plt.show()"
   ]
  },
  {
   "cell_type": "code",
   "execution_count": null,
   "id": "684c1e9f",
   "metadata": {},
   "outputs": [],
   "source": []
  },
  {
   "cell_type": "code",
   "execution_count": null,
   "id": "3524a046",
   "metadata": {},
   "outputs": [],
   "source": []
  }
 ],
 "metadata": {
  "kernelspec": {
   "display_name": "Python 3 (ipykernel)",
   "language": "python",
   "name": "python3"
  },
  "language_info": {
   "codemirror_mode": {
    "name": "ipython",
    "version": 3
   },
   "file_extension": ".py",
   "mimetype": "text/x-python",
   "name": "python",
   "nbconvert_exporter": "python",
   "pygments_lexer": "ipython3",
   "version": "3.11.5"
  }
 },
 "nbformat": 4,
 "nbformat_minor": 5
}
