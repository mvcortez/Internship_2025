{
 "cells": [
  {
   "cell_type": "code",
   "execution_count": null,
   "id": "a5be35ba",
   "metadata": {},
   "outputs": [],
   "source": [
    "import numpy as np\n",
    "import matplotlib.pyplot as plt\n",
    "from matplotlib import rcParams\n",
    "from scipy import io\n",
    "import os\n",
    "from sklearn import svm\n",
    "from sklearn.model_selection import cross_val_score\n",
    "from mpl_toolkits import mplot3d\n",
    "import seaborn as sns"
   ]
  },
  {
   "cell_type": "code",
   "execution_count": null,
   "id": "a8ef9f48",
   "metadata": {},
   "outputs": [],
   "source": [
    "### simple example of svm\n",
    "xf1 = np.linspace(0,5,20)\n",
    "xf2 = np.linspace(3,7,20)\n",
    "m = 3\n",
    "b1 = 2\n",
    "b2 = -5\n",
    "np.random.seed(66)\n",
    "yf1 = m*xf1+b1+np.random.normal(0,3,len(xf1))\n",
    "yf2 = m*xf2+b2+np.random.normal(0,3,len(xf2))\n",
    "plt.scatter(xf1,yf1,zorder=100,c='red')\n",
    "plt.scatter(xf2,yf2,zorder=100,c='green')\n",
    "sns.despine()\n",
    "X = np.zeros([2*len(xf1),2])\n",
    "Y = np.zeros(2*len(xf1))\n",
    "X[:len(xf1),0]=xf1\n",
    "X[:len(xf1),1]=yf1\n",
    "X[len(xf1):,0]=xf2\n",
    "X[len(xf1):,1]=yf2\n",
    "Y[:len(xf1)] = -1\n",
    "Y[len(xf1):] = 1\n"
   ]
  },
  {
   "cell_type": "code",
   "execution_count": null,
   "id": "98e17799",
   "metadata": {},
   "outputs": [],
   "source": [
    "clf1 = svm.SVC(kernel='linear')\n",
    "clf1.fit(X, Y)\n",
    "x_min, x_max = X[:, 0].min() - 0.5, X[:, 0].max() + 0.5\n",
    "y_min, y_max = X[:, 1].min() - 0.5, X[:, 1].max() + 0.5\n",
    "xx, yy = np.meshgrid(np.linspace(x_min, x_max, 100), np.linspace(y_min, y_max, 100))\n",
    "Z = clf1.predict(np.c_[xx.ravel(), yy.ravel()])\n",
    "Z = Z.reshape(xx.shape)\n",
    "\n",
    "\n",
    "f = plt.figure(figsize = (4,4))\n",
    "axes= f.add_subplot(111)\n",
    "axes.contourf(xx, yy, Z, cmap=plt.cm.Pastel2)\n",
    "axes.scatter(xf1,yf1,zorder=100,c='red')\n",
    "axes.scatter(xf2,yf2,zorder=100,c='green')\n",
    "plt.show()"
   ]
  },
  {
   "cell_type": "code",
   "execution_count": null,
   "id": "7e345629",
   "metadata": {},
   "outputs": [],
   "source": [
    "n1=300 #number of points\n",
    "r = 7 + np.random.randn(n1)\n",
    "th = 2 * np.pi * np.random.randn(n1)\n",
    "xr = r * np.cos(th)\n",
    "yr = r * np.sin(th)\n",
    "x5 = np.random.randn(n1)\n",
    "y5 = np.random.randn(n1)\n",
    "\n",
    "\n",
    "f = plt.figure()\n",
    "plt.plot(xr,yr,'ro',markerfacecolor=(0,1,0.2),markeredgecolor='k',ms=12)\n",
    "plt.plot(x5,y5,'bo',markerfacecolor=(0.9,0,1),markeredgecolor='k',ms=12)\n",
    "sns.despine()\n",
    "\n",
    "\n",
    "zr = np.power(xr,2) + np.power(yr,2)\n",
    "z5 = np.power(x5,2) + np.power(y5,2)\n",
    "\n",
    "fig = plt.figure(figsize=(10,10))\n",
    "ax = plt.axes(projection='3d')\n",
    "ax.view_init(20, -135)\n",
    "\n",
    "ax.plot(xr,yr,zr+40,'ro',markerfacecolor=(0,1,0.2),markeredgecolor='k',ms=12)\n",
    "ax.plot(x5,y5,z5+40,'bo',markerfacecolor=(0.9,0,1),markeredgecolor='k',ms=12)\n",
    "\n",
    "\n",
    "x = np.arange(-10,10.5,0.5)\n",
    "y = x\n",
    "X,Y = np.meshgrid(x,y)\n",
    "F3 = 54 + 0*X + 0*Y\n",
    "\n",
    "ax.plot_surface(X, Y, F3, cmap='gray',linewidth=0, antialiased=True,alpha=0.2)\n",
    "\n",
    "ax.plot(xr,yr,np.zeros(*xr.shape),'ro',markerfacecolor=(179/255,1,179/255),markeredgecolor='k',ms=12)\n",
    "ax.plot(x5,y5,np.zeros(*x5.shape),'bo',markerfacecolor=(240/255,194/255,224/255),markeredgecolor='k',ms=12)\n",
    "\n",
    "theta = np.linspace(0,2*np.pi,100)\n",
    "xrr = np.sqrt(14)*np.cos(theta)\n",
    "yrr = np.sqrt(14)*np.sin(theta)\n",
    "\n",
    "ax.plot(xrr,yrr,np.zeros(*xrr.shape),'k-',linewidth=2)\n",
    "\n",
    "plt.show()"
   ]
  },
  {
   "cell_type": "code",
   "execution_count": null,
   "id": "971ab3ee",
   "metadata": {
    "scrolled": true
   },
   "outputs": [],
   "source": [
    "X = np.zeros([2*n1,2])\n",
    "Y = np.zeros(2*n1)\n",
    "X[:n1,0]=xr\n",
    "X[:n1,1]=yr\n",
    "X[n1:,0]=x5\n",
    "X[n1:,1]=y5\n",
    "Y[:n1] = -1\n",
    "Y[n1:] = 1\n",
    "\n",
    "clf2 = svm.SVC(kernel='rbf')  #try rbf, sigmoid, linear, poly\n",
    "clf2.fit(X, Y)\n",
    "x_min, x_max = X[:, 0].min() - 0.5, X[:, 0].max() + 0.5\n",
    "y_min, y_max = X[:, 1].min() - 0.5, X[:, 1].max() + 0.5\n",
    "xx, yy = np.meshgrid(np.linspace(x_min, x_max, 100), np.linspace(y_min, y_max, 100))\n",
    "Z = clf2.predict(np.c_[xx.ravel(), yy.ravel()])\n",
    "Z = Z.reshape(xx.shape)\n",
    "f = plt.figure()\n",
    "plt.contourf(xx, yy, Z, cmap=plt.cm.Pastel1)\n",
    "plt.plot(xr,yr,'ro',markerfacecolor=(0,1,0.2),markeredgecolor='k',ms=12)\n",
    "plt.plot(x5,y5,'bo',markerfacecolor=(0.9,0,1),markeredgecolor='k',ms=12)\n",
    "sns.despine()"
   ]
  },
  {
   "cell_type": "markdown",
   "id": "393a24fe",
   "metadata": {},
   "source": [
    "# Exercise"
   ]
  },
  {
   "cell_type": "code",
   "execution_count": null,
   "id": "25878dae",
   "metadata": {},
   "outputs": [],
   "source": [
    "from sklearn import datasets\n",
    "X,y = datasets.make_moons(n_samples=100, shuffle=True, noise=0.1, random_state=10)\n"
   ]
  },
  {
   "cell_type": "code",
   "execution_count": null,
   "id": "cdcb526c",
   "metadata": {},
   "outputs": [],
   "source": [
    "plt.scatter(X[:,0],X[:,1],c=y)"
   ]
  },
  {
   "cell_type": "markdown",
   "id": "d23c942b",
   "metadata": {},
   "source": [
    "***Exercise:*** Try to separate the data set using SVM."
   ]
  },
  {
   "cell_type": "code",
   "execution_count": null,
   "id": "f8d9b1d6",
   "metadata": {},
   "outputs": [],
   "source": []
  }
 ],
 "metadata": {
  "kernelspec": {
   "display_name": "Python 3 (ipykernel)",
   "language": "python",
   "name": "python3"
  },
  "language_info": {
   "codemirror_mode": {
    "name": "ipython",
    "version": 3
   },
   "file_extension": ".py",
   "mimetype": "text/x-python",
   "name": "python",
   "nbconvert_exporter": "python",
   "pygments_lexer": "ipython3",
   "version": "3.11.5"
  }
 },
 "nbformat": 4,
 "nbformat_minor": 5
}
