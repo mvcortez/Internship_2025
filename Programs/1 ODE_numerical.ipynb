{
 "cells": [
  {
   "cell_type": "markdown",
   "id": "36fe27c8",
   "metadata": {},
   "source": [
    "# Solving with SciPy"
   ]
  },
  {
   "cell_type": "code",
   "execution_count": null,
   "id": "78c2975c",
   "metadata": {},
   "outputs": [],
   "source": [
    "import numpy as np\n",
    "import matplotlib.pyplot as plt\n",
    "from scipy.integrate import solve_ivp"
   ]
  },
  {
   "cell_type": "code",
   "execution_count": null,
   "id": "a33c9e1c",
   "metadata": {},
   "outputs": [],
   "source": [
    "def f(t,z):\n",
    "    s = -beta*z[0]*z[1]\n",
    "    i = beta*z[0]*z[1] -alpha*z[1]\n",
    "    r = alpha*z[1]\n",
    "    return [s, i, r]"
   ]
  },
  {
   "cell_type": "code",
   "execution_count": null,
   "id": "be473073",
   "metadata": {},
   "outputs": [],
   "source": [
    "beta = 0.02\n",
    "alpha = 0.1\n",
    "\n",
    "init_s = 100\n",
    "init_i = 2\n",
    "init_r = 0\n",
    "\n",
    "T = 100\n",
    "t = np.linspace(0, T, 100)\n",
    "\n",
    "\n",
    "sol = solve_ivp(lambda t, z: f(t, z), [0, T], [init_s,init_i, init_r],dense_output=True)   #uses RK45 by default\n",
    "z1 = sol.sol(t)\n",
    "\n",
    "fig = plt.figure(figsize=(5,5))\n",
    "plt.plot(t,z1[0],label='Susceptible')\n",
    "plt.plot(t,z1[1],label='Infected')\n",
    "plt.plot(t,z1[2],label='Recovered')\n",
    "plt.xlabel('Time ($t$)')\n",
    "plt.legend()\n",
    "plt.tight_layout()"
   ]
  },
  {
   "cell_type": "code",
   "execution_count": null,
   "id": "cea900ea",
   "metadata": {},
   "outputs": [],
   "source": []
  }
 ],
 "metadata": {
  "kernelspec": {
   "display_name": "Python 3 (ipykernel)",
   "language": "python",
   "name": "python3"
  },
  "language_info": {
   "codemirror_mode": {
    "name": "ipython",
    "version": 3
   },
   "file_extension": ".py",
   "mimetype": "text/x-python",
   "name": "python",
   "nbconvert_exporter": "python",
   "pygments_lexer": "ipython3",
   "version": "3.11.5"
  }
 },
 "nbformat": 4,
 "nbformat_minor": 5
}
